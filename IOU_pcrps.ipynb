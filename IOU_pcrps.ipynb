{
 "cells": [
  {
   "cell_type": "code",
   "execution_count": null,
   "id": "3324a5ce",
   "metadata": {},
   "outputs": [],
   "source": [
    "import os\n",
    "\n",
    "from sa_convlstm import SAConvLSTM\n",
    "from convlstm import ConvLSTM\n",
    "from utils import *\n",
    "\n",
    "import torch\n",
    "from torch import nn\n",
    "from torch.optim.lr_scheduler import ReduceLROnPlateau\n",
    "from torch.utils.data import DataLoader\n",
    "\n",
    "import sys\n",
    "import pickle\n",
    "from tqdm import tqdm\n",
    "import numpy as np\n",
    "import math\n",
    "import argparse\n",
    "import json\n",
    "\n",
    "torch.backends.cudnn.deterministic = True\n",
    "torch.backends.cudnn.benchmark = False\n",
    "\n",
    "device = torch.device(\"cuda:1\" if torch.cuda.is_available() else \"cpu\")"
   ]
  },
  {
   "cell_type": "code",
   "execution_count": null,
   "id": "a3591502",
   "metadata": {},
   "outputs": [],
   "source": [
    "save_dir = './save_models/saclstm_pcrps_epoch_50_pinchu_pandamonium/'"
   ]
  },
  {
   "cell_type": "code",
   "execution_count": null,
   "id": "cfaacc1f",
   "metadata": {},
   "outputs": [],
   "source": [
    "parser = argparse.ArgumentParser()\n",
    "args = parser.parse_args(args=\"\")"
   ]
  },
  {
   "cell_type": "code",
   "execution_count": null,
   "id": "a4e06bc4",
   "metadata": {},
   "outputs": [],
   "source": [
    "with open(save_dir + 'args.txt', 'r') as f:\n",
    "    args.__dict__ = json.load(f)"
   ]
  },
  {
   "cell_type": "code",
   "execution_count": null,
   "id": "2b11cf67",
   "metadata": {},
   "outputs": [],
   "source": [
    "testFolder = wb_dataset(root=args.data, dataset_type=\"test\", frames_input=args.input_length,\n",
    "                              frames_output=args.output_length, prob = args.prob_crps)\n",
    "\n",
    "testLoader = torch.utils.data.DataLoader(testFolder,\n",
    "                                          batch_size=args.batch_size,\n",
    "                                          shuffle=False)\n",
    "\n",
    "device = torch.device(\"cuda:1\" if torch.cuda.is_available() else \"cpu\")\n",
    "\n",
    "if args.convlstm and not args.prob_crps:\n",
    "    network = ConvLSTM(args.input_dim, args.hidden_dim, args.output_dim,\n",
    "                             args.kernel_size, device, dropout=args.dropout).to(device)\n",
    "elif args.convlstm and args.prob_crps:\n",
    "    network = ConvLSTM(2*args.input_dim, args.hidden_dim, 2*args.output_dim,\n",
    "                       args.kernel_size, device, dropout=args.dropout).to(device)\n",
    "elif args.saconvlstm and not args.prob_crps:   \n",
    "    network = SAConvLSTM(args.input_dim, args.hidden_dim, args.output_dim, args.attn_dim,\n",
    "                         args.kernel_size, device, dropout=args.dropout).to(device)\n",
    "else:\n",
    "    network = SAConvLSTM(2*args.input_dim, args.hidden_dim, 2*args.output_dim, args.attn_dim,\n",
    "                         args.kernel_size, device, dropout=args.dropout).to(device)\n",
    "\n",
    "optimizer = torch.optim.Adam(network.parameters(), lr=args.learn_rate, weight_decay=args.weight_decay)    \n",
    "lr_scheduler = ReduceLROnPlateau(optimizer, mode='min', factor=0.3, patience=0, verbose=True, min_lr=0.0001)"
   ]
  },
  {
   "cell_type": "code",
   "execution_count": null,
   "id": "8e117421",
   "metadata": {},
   "outputs": [],
   "source": [
    "max_ep = 0\n",
    "for f in os.listdir(save_dir):\n",
    "    split = f.split(\"_\")\n",
    "    if len(split)==2 and split[1] == \"checkpoint.chk\":\n",
    "        if max_ep<int(split[0]): max_ep=int(split[0])\n",
    "chkpnt = str(max_ep) + \"_checkpoint.chk\"                                         "
   ]
  },
  {
   "cell_type": "code",
   "execution_count": null,
   "id": "43b53a6a",
   "metadata": {},
   "outputs": [],
   "source": [
    "chk = torch.load(save_dir + chkpnt)\n",
    "network.load_state_dict(chk['net'])"
   ]
  },
  {
   "cell_type": "code",
   "execution_count": null,
   "id": "5dc70afb",
   "metadata": {
    "scrolled": true
   },
   "outputs": [],
   "source": [
    "big_iou = []\n",
    "\n",
    "for i in range(len(testFolder)):\n",
    "    if i%50 == 0: print(i)\n",
    "    item = testFolder.__getitem__(i)\n",
    "    output = network(torch.from_numpy(item[None, :7, ...]).float().to(device), train=False).detach().cpu().numpy()\n",
    "    item = item[:, :5, ...]*testFolder.long_std+testFolder.long_mean\n",
    "    var = output[0][:, 5:, ...]*testFolder.long_std\n",
    "    output = output[0][:, :5, ...]*testFolder.long_std+testFolder.long_mean\n",
    "    var = var**2\n",
    "    iou_day= []\n",
    "    for d in range(5):\n",
    "        channel = 0\n",
    "        day = d\n",
    "        var_max_half_day = np.quantile(var[day, channel], 0.9)\n",
    "        var_set = var[day, channel]\n",
    "        var_set = var_set>var_max_half_day\n",
    "        del_day = np.abs(item[day+7][channel] - output[day+0][channel])\n",
    "        del_max_half_day = np.quantile(del_day, 0.9)\n",
    "        del_set = del_day > del_max_half_day\n",
    "        iou_day.append(np.sum(np.logical_and(var_set, del_set))/np.sum(np.logical_or(var_set, del_set)))\n",
    "    big_iou.append(iou_day)"
   ]
  },
  {
   "cell_type": "code",
   "execution_count": null,
   "id": "d20231c6",
   "metadata": {},
   "outputs": [],
   "source": [
    "arr = np.array(big_iou)"
   ]
  },
  {
   "cell_type": "code",
   "execution_count": null,
   "id": "7481aa59",
   "metadata": {
    "scrolled": true
   },
   "outputs": [],
   "source": [
    "arr.mean()"
   ]
  }
 ],
 "metadata": {
  "kernelspec": {
   "display_name": "Python 3 (ipykernel)",
   "language": "python",
   "name": "python3"
  },
  "language_info": {
   "codemirror_mode": {
    "name": "ipython",
    "version": 3
   },
   "file_extension": ".py",
   "mimetype": "text/x-python",
   "name": "python",
   "nbconvert_exporter": "python",
   "pygments_lexer": "ipython3",
   "version": "3.9.13"
  }
 },
 "nbformat": 4,
 "nbformat_minor": 5
}
