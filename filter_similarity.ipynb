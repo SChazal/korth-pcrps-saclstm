{
 "cells": [
  {
   "cell_type": "code",
   "execution_count": null,
   "id": "9068e8ff",
   "metadata": {},
   "outputs": [],
   "source": [
    "import os\n",
    "\n",
    "from sa_convlstm import SAConvLSTM\n",
    "from convlstm import ConvLSTM\n",
    "from utils import *\n",
    "\n",
    "import torch\n",
    "from torch import nn\n",
    "from torch.optim.lr_scheduler import ReduceLROnPlateau\n",
    "from torch.utils.data import DataLoader\n",
    "\n",
    "import sys\n",
    "import pickle\n",
    "from tqdm import tqdm\n",
    "import numpy as np\n",
    "import math\n",
    "import argparse\n",
    "import json\n",
    "\n",
    "torch.backends.cudnn.deterministic = True\n",
    "torch.backends.cudnn.benchmark = False\n",
    "\n",
    "device = torch.device(\"cuda:1\" if torch.cuda.is_available() else \"cpu\")"
   ]
  },
  {
   "cell_type": "code",
   "execution_count": null,
   "id": "9c393a7e",
   "metadata": {
    "scrolled": false
   },
   "outputs": [],
   "source": [
    "save_dir = './save_models/saclstm_epoch_50_pinchu_pandamonium/'\n",
    "# save_dir = './save_models/saclstm_pcrps_epoch_50_pinchu_pandamonium/'\n",
    "\n",
    "parser = argparse.ArgumentParser()\n",
    "args = parser.parse_args(args=\"\")\n",
    "with open(save_dir + 'args.txt', 'r') as f:\n",
    "    args.__dict__ = json.load(f)\n",
    "\n",
    "if args.convlstm and not args.prob_crps:\n",
    "    sam_network = ConvLSTM(args.input_dim, args.hidden_dim, args.output_dim,\n",
    "                             args.kernel_size, device, dropout=args.dropout).to(device)\n",
    "elif args.convlstm and args.prob_crps:\n",
    "    sam_network = ConvLSTM(2*args.input_dim, args.hidden_dim, 2*args.output_dim,\n",
    "                       args.kernel_size, device, dropout=args.dropout).to(device)\n",
    "elif args.saconvlstm and not args.prob_crps:   \n",
    "    sam_network = SAConvLSTM(args.input_dim, args.hidden_dim, args.output_dim, args.attn_dim,\n",
    "                         args.kernel_size, device, dropout=args.dropout).to(device)\n",
    "else:\n",
    "    sam_network = SAConvLSTM(2*args.input_dim, args.hidden_dim, 2*args.output_dim, args.attn_dim,\n",
    "                         args.kernel_size, device, dropout=args.dropout).to(device)\n",
    "\n",
    "max_ep = 0\n",
    "for f in os.listdir(save_dir):\n",
    "    split = f.split(\"_\")\n",
    "    if len(split)==2 and split[1] == \"checkpoint.chk\":\n",
    "        if max_ep<int(split[0]): max_ep=int(split[0])\n",
    "chkpnt = str(max_ep) + \"_checkpoint.chk\" \n",
    "chk = torch.load(save_dir + chkpnt)\n",
    "sam_network.load_state_dict(chk['net'])"
   ]
  },
  {
   "cell_type": "code",
   "execution_count": null,
   "id": "cdbf21f4",
   "metadata": {},
   "outputs": [],
   "source": [
    "save_dir = './save_models/saclstm_orth_2_epoch_50_pinchu_pandamonium/'\n",
    "parser = argparse.ArgumentParser()\n",
    "args = parser.parse_args(args=\"\")\n",
    "with open(save_dir + 'args.txt', 'r') as f:\n",
    "    args.__dict__ = json.load(f)\n",
    "\n",
    "if args.convlstm and not args.prob_crps:\n",
    "    sam_ortho_network = ConvLSTM(args.input_dim, args.hidden_dim, args.output_dim,\n",
    "                             args.kernel_size, device, dropout=args.dropout).to(device)\n",
    "elif args.convlstm and args.prob_crps:\n",
    "    sam_ortho_network = ConvLSTM(2*args.input_dim, args.hidden_dim, 2*args.output_dim,\n",
    "                       args.kernel_size, device, dropout=args.dropout).to(device)\n",
    "elif args.saconvlstm and not args.prob_crps:   \n",
    "    sam_ortho_network = SAConvLSTM(args.input_dim, args.hidden_dim, args.output_dim, args.attn_dim,\n",
    "                         args.kernel_size, device, dropout=args.dropout).to(device)\n",
    "else:\n",
    "    sam_ortho_network = SAConvLSTM(2*args.input_dim, args.hidden_dim, 2*args.output_dim, args.attn_dim,\n",
    "                         args.kernel_size, device, dropout=args.dropout).to(device)\n",
    "\n",
    "max_ep = 0\n",
    "for f in os.listdir(save_dir):\n",
    "    split = f.split(\"_\")\n",
    "    if len(split)==2 and split[1] == \"checkpoint.chk\":\n",
    "        if max_ep<int(split[0]): max_ep=int(split[0])\n",
    "chkpnt = str(max_ep) + \"_checkpoint.chk\" \n",
    "chk = torch.load(save_dir + chkpnt)\n",
    "sam_ortho_network.load_state_dict(chk['net'])"
   ]
  },
  {
   "cell_type": "code",
   "execution_count": null,
   "id": "0ec5fd87",
   "metadata": {},
   "outputs": [],
   "source": [
    "save_dir = './save_models/saclstm_orth_0_epoch_50_pinchu_pandamonium/'\n",
    "parser = argparse.ArgumentParser()\n",
    "args = parser.parse_args(args=\"\")\n",
    "with open(save_dir + 'args.txt', 'r') as f:\n",
    "    args.__dict__ = json.load(f)\n",
    "\n",
    "if args.convlstm and not args.prob_crps:\n",
    "    sam_ortho_full_network = ConvLSTM(args.input_dim, args.hidden_dim, args.output_dim,\n",
    "                             args.kernel_size, device, dropout=args.dropout).to(device)\n",
    "elif args.convlstm and args.prob_crps:\n",
    "    sam_ortho_full_network = ConvLSTM(2*args.input_dim, args.hidden_dim, 2*args.output_dim,\n",
    "                       args.kernel_size, device, dropout=args.dropout).to(device)\n",
    "elif args.saconvlstm and not args.prob_crps:   \n",
    "    sam_ortho_full_network = SAConvLSTM(args.input_dim, args.hidden_dim, args.output_dim, args.attn_dim,\n",
    "                         args.kernel_size, device, dropout=args.dropout).to(device)\n",
    "else:\n",
    "    sam_ortho_full_network = SAConvLSTM(2*args.input_dim, args.hidden_dim, 2*args.output_dim, args.attn_dim,\n",
    "                         args.kernel_size, device, dropout=args.dropout).to(device)\n",
    "\n",
    "max_ep = 0\n",
    "for f in os.listdir(save_dir):\n",
    "    split = f.split(\"_\")\n",
    "    if len(split)==2 and split[1] == \"checkpoint.chk\":\n",
    "        if max_ep<int(split[0]): max_ep=int(split[0])\n",
    "chkpnt = str(max_ep) + \"_checkpoint.chk\"\n",
    "chk = torch.load(save_dir + chkpnt)\n",
    "sam_ortho_full_network.load_state_dict(chk['net'])"
   ]
  },
  {
   "cell_type": "code",
   "execution_count": null,
   "id": "e5989661",
   "metadata": {},
   "outputs": [],
   "source": [
    "sims_sa_0 = []\n",
    "sims_sa_1 = []\n",
    "sims_sa_2 = []\n",
    "sims_sa_3 = []\n",
    "for i in range(32):\n",
    "    for j in range(i, 32):\n",
    "        if i!=j:\n",
    "            sims_sa_0.append(torch.nn.functional.cosine_similarity(sam_network.layers[0].sa.conv_z.weight[i,:,0,0], sam_network.layers[0].sa.conv_z.weight[j,:,0,0], dim=0).item())\n",
    "            sims_sa_1.append(torch.nn.functional.cosine_similarity(sam_network.layers[1].sa.conv_z.weight[i,:,0,0], sam_network.layers[1].sa.conv_z.weight[j,:,0,0], dim=0).item())\n",
    "            sims_sa_2.append(torch.nn.functional.cosine_similarity(sam_network.layers[2].sa.conv_z.weight[i,:,0,0], sam_network.layers[2].sa.conv_z.weight[j,:,0,0], dim=0).item())\n",
    "            sims_sa_3.append(torch.nn.functional.cosine_similarity(sam_network.layers[3].sa.conv_z.weight[i,:,0,0], sam_network.layers[3].sa.conv_z.weight[j,:,0,0], dim=0).item())"
   ]
  },
  {
   "cell_type": "code",
   "execution_count": null,
   "id": "ca370edd",
   "metadata": {},
   "outputs": [],
   "source": [
    "sims_sa_ortho_0 = []\n",
    "sims_sa_ortho_1 = []\n",
    "sims_sa_ortho_2 = []\n",
    "sims_sa_ortho_3 = []\n",
    "for i in range(32):\n",
    "    for j in range(i, 32):\n",
    "        if i!=j:\n",
    "            sims_sa_ortho_0.append(torch.nn.functional.cosine_similarity(sam_ortho_network.layers[0].sa.conv_z.weight[i,:,0,0], sam_ortho_network.layers[0].sa.conv_z.weight[j,:,0,0], dim=0).item())\n",
    "            sims_sa_ortho_1.append(torch.nn.functional.cosine_similarity(sam_ortho_network.layers[1].sa.conv_z.weight[i,:,0,0], sam_ortho_network.layers[1].sa.conv_z.weight[j,:,0,0], dim=0).item())\n",
    "            sims_sa_ortho_2.append(torch.nn.functional.cosine_similarity(sam_ortho_network.layers[2].sa.conv_z.weight[i,:,0,0], sam_ortho_network.layers[2].sa.conv_z.weight[j,:,0,0], dim=0).item())\n",
    "            sims_sa_ortho_3.append(torch.nn.functional.cosine_similarity(sam_ortho_network.layers[3].sa.conv_z.weight[i,:,0,0], sam_ortho_network.layers[3].sa.conv_z.weight[j,:,0,0], dim=0).item())"
   ]
  },
  {
   "cell_type": "code",
   "execution_count": null,
   "id": "bd106050",
   "metadata": {},
   "outputs": [],
   "source": [
    "sims_sa_ortho_full_0 = []\n",
    "sims_sa_ortho_full_1 = []\n",
    "sims_sa_ortho_full_2 = []\n",
    "sims_sa_ortho_full_3 = []\n",
    "for i in range(32):\n",
    "    for j in range(i, 32):\n",
    "        if i!=j:\n",
    "            sims_sa_ortho_full_0.append(torch.nn.functional.cosine_similarity(sam_ortho_full_network.layers[0].sa.conv_z.weight[i,:,0,0], sam_ortho_full_network.layers[0].sa.conv_z.weight[j,:,0,0], dim=0).item())\n",
    "            sims_sa_ortho_full_1.append(torch.nn.functional.cosine_similarity(sam_ortho_full_network.layers[1].sa.conv_z.weight[i,:,0,0], sam_ortho_full_network.layers[1].sa.conv_z.weight[j,:,0,0], dim=0).item())\n",
    "            sims_sa_ortho_full_2.append(torch.nn.functional.cosine_similarity(sam_ortho_full_network.layers[2].sa.conv_z.weight[i,:,0,0], sam_ortho_full_network.layers[2].sa.conv_z.weight[j,:,0,0], dim=0).item())\n",
    "            sims_sa_ortho_full_3.append(torch.nn.functional.cosine_similarity(sam_ortho_full_network.layers[3].sa.conv_z.weight[i,:,0,0], sam_ortho_full_network.layers[3].sa.conv_z.weight[j,:,0,0], dim=0).item())"
   ]
  },
  {
   "cell_type": "code",
   "execution_count": null,
   "id": "90a2ee65",
   "metadata": {
    "scrolled": false
   },
   "outputs": [],
   "source": [
    "import matplotlib.pyplot as plt\n",
    "from matplotlib.ticker import PercentFormatter\n",
    "plt.hist(sims_sa_0, bins=20, color='r', weights=np.ones(len(sims_sa_0))/len(sims_sa_0), alpha=0.5, label='SACLSTM - Cell 1')\n",
    "plt.hist(sims_sa_ortho_0, bins=30, color='g', weights=np.ones(len(sims_sa_ortho_0))/len(sims_sa_ortho_0), alpha=0.5, label='OSACLSTM - Cell 1')\n",
    "plt.hist(sims_sa_ortho_full_0, bins=1, color='b', weights=np.ones(len(sims_sa_ortho_full_0))/len(sims_sa_ortho_full_0), alpha=0.5, label='f-OSACLSTM - Cell 1')\n",
    "plt.gca().yaxis.set_major_formatter(PercentFormatter(1))\n",
    "plt.title(\"Cell 1\")\n",
    "# plt.legend()\n",
    "plt.show()"
   ]
  },
  {
   "cell_type": "code",
   "execution_count": null,
   "id": "f2a7f9ea",
   "metadata": {},
   "outputs": [],
   "source": [
    "import matplotlib.pyplot as plt\n",
    "from matplotlib.ticker import PercentFormatter\n",
    "plt.hist(sims_sa_1, bins=30, color='r', weights=np.ones(len(sims_sa_0))/len(sims_sa_0), alpha=0.5, label='SACLSTM')\n",
    "plt.hist(sims_sa_ortho_1, bins=20, color='g', weights=np.ones(len(sims_sa_ortho_0))/len(sims_sa_ortho_0), alpha=0.5, label='OSACLSTM')\n",
    "plt.hist(sims_sa_ortho_full_1, bins=1, color='b', weights=np.ones(len(sims_sa_ortho_full_1))/len(sims_sa_ortho_full_1), alpha=0.5, label='f-OSACLSTM')\n",
    "plt.gca().yaxis.set_major_formatter(PercentFormatter(1))\n",
    "plt.title(\"Cell 2\")\n",
    "plt.legend()\n",
    "plt.show()"
   ]
  },
  {
   "cell_type": "code",
   "execution_count": null,
   "id": "1ac1adad",
   "metadata": {
    "scrolled": true
   },
   "outputs": [],
   "source": [
    "import matplotlib.pyplot as plt\n",
    "from matplotlib.ticker import PercentFormatter\n",
    "plt.hist(sims_sa_2, bins=25, color='r', weights=np.ones(len(sims_sa_0))/len(sims_sa_0), alpha=0.5, label='SACLSTM - Cell 3')\n",
    "plt.hist(sims_sa_ortho_2, bins=30, color='g', weights=np.ones(len(sims_sa_ortho_0))/len(sims_sa_ortho_0), alpha=0.5, label='OSACLSTM - Cell 3')\n",
    "plt.hist(sims_sa_ortho_full_2, bins=1, color='b', weights=np.ones(len(sims_sa_ortho_full_2))/len(sims_sa_ortho_full_2), alpha=0.5, label='f-OSACLSTM - Cell 3')\n",
    "plt.gca().yaxis.set_major_formatter(PercentFormatter(1))\n",
    "plt.title(\"Cell 3\")\n",
    "# plt.legend()\n",
    "plt.show()"
   ]
  },
  {
   "cell_type": "code",
   "execution_count": null,
   "id": "540829eb",
   "metadata": {
    "scrolled": true
   },
   "outputs": [],
   "source": [
    "import matplotlib.pyplot as plt\n",
    "from matplotlib.ticker import PercentFormatter\n",
    "plt.hist(sims_sa_3, bins=25, color='r', weights=np.ones(len(sims_sa_0))/len(sims_sa_0), alpha=0.5, label='SACLSTM - Cell 4')\n",
    "plt.hist(sims_sa_ortho_3, bins=10, color='g', weights=np.ones(len(sims_sa_ortho_0))/len(sims_sa_ortho_0), alpha=0.5, label='OSACLSTM - Cell 4')\n",
    "plt.hist(sims_sa_ortho_full_3, bins=1, color='b', weights=np.ones(len(sims_sa_ortho_full_3))/len(sims_sa_ortho_full_3), alpha=0.5, label='f-OSACLSTM - Cell 4')\n",
    "plt.gca().yaxis.set_major_formatter(PercentFormatter(1))\n",
    "plt.title(\"Cell 4\")\n",
    "#plt.legend()\n",
    "plt.show()"
   ]
  }
 ],
 "metadata": {
  "kernelspec": {
   "display_name": "Python 3 (ipykernel)",
   "language": "python",
   "name": "python3"
  },
  "language_info": {
   "codemirror_mode": {
    "name": "ipython",
    "version": 3
   },
   "file_extension": ".py",
   "mimetype": "text/x-python",
   "name": "python",
   "nbconvert_exporter": "python",
   "pygments_lexer": "ipython3",
   "version": "3.9.13"
  }
 },
 "nbformat": 4,
 "nbformat_minor": 5
}
