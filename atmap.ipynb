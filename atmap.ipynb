{
 "cells": [
  {
   "cell_type": "code",
   "execution_count": null,
   "id": "47e02173",
   "metadata": {},
   "outputs": [],
   "source": [
    "import os\n",
    "\n",
    "from atmap_sa_convlstm import SAConvLSTM\n",
    "from convlstm import ConvLSTM\n",
    "from utils import *\n",
    "\n",
    "import torch\n",
    "from torch import nn\n",
    "from torch.optim.lr_scheduler import ReduceLROnPlateau\n",
    "from torch.utils.data import DataLoader\n",
    "\n",
    "import sys\n",
    "import pickle\n",
    "from tqdm import tqdm\n",
    "import numpy as np\n",
    "import math\n",
    "import argparse\n",
    "import json\n",
    "\n",
    "torch.backends.cudnn.deterministic = True\n",
    "torch.backends.cudnn.benchmark = False\n",
    "\n",
    "device = torch.device(\"cuda:1\" if torch.cuda.is_available() else \"cpu\")"
   ]
  },
  {
   "cell_type": "code",
   "execution_count": null,
   "id": "e1118bac",
   "metadata": {},
   "outputs": [],
   "source": [
    "save_dir = './save_models/saclstm_epoch_50_pinchu_pandamonium/'"
   ]
  },
  {
   "cell_type": "code",
   "execution_count": null,
   "id": "78f2ac27",
   "metadata": {},
   "outputs": [],
   "source": [
    "parser = argparse.ArgumentParser()\n",
    "args = parser.parse_args(args=\"\")"
   ]
  },
  {
   "cell_type": "code",
   "execution_count": null,
   "id": "4b676a2e",
   "metadata": {},
   "outputs": [],
   "source": [
    "with open(save_dir + 'args.txt', 'r') as f:\n",
    "    args.__dict__ = json.load(f)"
   ]
  },
  {
   "cell_type": "code",
   "execution_count": null,
   "id": "6c0a409c",
   "metadata": {},
   "outputs": [],
   "source": [
    "testFolder = wb_dataset(root=args.data, dataset_type=\"test\", frames_input=args.input_length,\n",
    "                              frames_output=args.output_length, prob = args.prob_crps)\n",
    "\n",
    "testLoader = torch.utils.data.DataLoader(testFolder,\n",
    "                                          batch_size=args.batch_size,\n",
    "                                          shuffle=False)\n",
    "\n",
    "device = torch.device(\"cuda:1\" if torch.cuda.is_available() else \"cpu\")\n",
    "\n",
    "if args.convlstm and not args.prob_crps:\n",
    "    network = ConvLSTM(args.input_dim, args.hidden_dim, args.output_dim,\n",
    "                             args.kernel_size, device, dropout=args.dropout).to(device)\n",
    "elif args.convlstm and args.prob_crps:\n",
    "    network = ConvLSTM(2*args.input_dim, args.hidden_dim, 2*args.output_dim,\n",
    "                       args.kernel_size, device, dropout=args.dropout).to(device)\n",
    "elif args.saconvlstm and not args.prob_crps:   \n",
    "    network = SAConvLSTM(args.input_dim, args.hidden_dim, args.output_dim, args.attn_dim,\n",
    "                         args.kernel_size, device, dropout=args.dropout).to(device)\n",
    "else:\n",
    "    network = SAConvLSTM(2*args.input_dim, args.hidden_dim, 2*args.output_dim, args.attn_dim,\n",
    "                         args.kernel_size, device, dropout=args.dropout).to(device)\n",
    "\n",
    "optimizer = torch.optim.Adam(network.parameters(), lr=args.learn_rate, weight_decay=args.weight_decay)    \n",
    "lr_scheduler = ReduceLROnPlateau(optimizer, mode='min', factor=0.3, patience=0, verbose=True, min_lr=0.0001)"
   ]
  },
  {
   "cell_type": "code",
   "execution_count": null,
   "id": "99f0ece2",
   "metadata": {},
   "outputs": [],
   "source": [
    "max_ep = 0\n",
    "for f in os.listdir(save_dir):\n",
    "    split = f.split(\"_\")\n",
    "    if len(split)==2 and split[1] == \"checkpoint.chk\":\n",
    "        if max_ep<int(split[0]): max_ep=int(split[0])\n",
    "chkpnt = str(max_ep) + \"_checkpoint.chk\"                                         "
   ]
  },
  {
   "cell_type": "code",
   "execution_count": null,
   "id": "5e533949",
   "metadata": {},
   "outputs": [],
   "source": [
    "chk = torch.load(save_dir + chkpnt)\n",
    "network.load_state_dict(chk['net'])"
   ]
  },
  {
   "cell_type": "code",
   "execution_count": null,
   "id": "c5598f14",
   "metadata": {},
   "outputs": [],
   "source": [
    "item = testFolder.__getitem__(367)"
   ]
  },
  {
   "cell_type": "code",
   "execution_count": null,
   "id": "27dc31d0",
   "metadata": {},
   "outputs": [],
   "source": [
    "output, att_h_maps, att_Z_maps = network(torch.from_numpy(item[None, :7, ...]).float().to(device), train=False)\n",
    "output = output.detach().cpu().numpy()"
   ]
  },
  {
   "cell_type": "code",
   "execution_count": null,
   "id": "3a726141",
   "metadata": {},
   "outputs": [],
   "source": [
    "torch.cat(att_Z_maps, dim=0).shape"
   ]
  },
  {
   "cell_type": "code",
   "execution_count": null,
   "id": "f75a0b8c",
   "metadata": {},
   "outputs": [],
   "source": [
    "day_h_maps = torch.cat(att_h_maps, dim=0).reshape(11, 4, 128, 32, 64).mean(dim=(0))\n",
    "day_Z_maps = torch.cat(att_Z_maps, dim=0).reshape(11, 4, 32, 32, 64).mean(dim=(0))"
   ]
  },
  {
   "cell_type": "code",
   "execution_count": null,
   "id": "e1b05b1e",
   "metadata": {},
   "outputs": [],
   "source": [
    "day_Z_maps.shape"
   ]
  },
  {
   "cell_type": "code",
   "execution_count": null,
   "id": "bd796a23",
   "metadata": {},
   "outputs": [],
   "source": [
    "import numpy as np\n",
    "from matplotlib.colors import Normalize\n",
    "from matplotlib import pyplot as plt\n",
    "import cartopy.crs as ccrs\n",
    "from cartopy.util import add_cyclic_point"
   ]
  },
  {
   "cell_type": "code",
   "execution_count": null,
   "id": "3d2c7bca",
   "metadata": {},
   "outputs": [],
   "source": [
    "longs = np.arange(0, 360, 5.625)\n",
    "lats = np.linspace(-90, 90, 32)"
   ]
  },
  {
   "cell_type": "code",
   "execution_count": null,
   "id": "d17d1e1f",
   "metadata": {},
   "outputs": [],
   "source": [
    "channel=0"
   ]
  },
  {
   "cell_type": "code",
   "execution_count": null,
   "id": "cec0d63a",
   "metadata": {
    "scrolled": true
   },
   "outputs": [],
   "source": [
    "for i in range(0, 32):\n",
    "    labels = day_Z_maps[0][i].detach().cpu().numpy()\n",
    "    labels = 2*(labels-np.min(labels))/(np.max(labels)-np.min(labels)) - 1\n",
    "    wrap_data, wrap_lon = add_cyclic_point(labels, coord=longs, axis=1)\n",
    "    plt.figure(figsize=(8,4))\n",
    "    ax = plt.axes(projection=ccrs.PlateCarree())\n",
    "    ax.coastlines()\n",
    "    im = ax.contourf(wrap_lon, lats, wrap_data, 100, transform=ccrs.PlateCarree(), cmap='twilight_shifted')\n",
    "    ax.set_global()\n",
    "    # cbar = ax.figure.colorbar(im, aspect=10, fraction=0.2, orientation='vertical')\n",
    "    # cbar.ax.tick_params(labelsize=20)\n",
    "    plt.savefig(\"photos/367_atmap_saclstm_pcrps/\" + str(i) + \".png\")\n",
    "#     plt.show()"
   ]
  },
  {
   "cell_type": "code",
   "execution_count": null,
   "id": "0c7e774d",
   "metadata": {},
   "outputs": [],
   "source": []
  }
 ],
 "metadata": {
  "kernelspec": {
   "display_name": "Python 3 (ipykernel)",
   "language": "python",
   "name": "python3"
  },
  "language_info": {
   "codemirror_mode": {
    "name": "ipython",
    "version": 3
   },
   "file_extension": ".py",
   "mimetype": "text/x-python",
   "name": "python",
   "nbconvert_exporter": "python",
   "pygments_lexer": "ipython3",
   "version": "3.9.13"
  }
 },
 "nbformat": 4,
 "nbformat_minor": 5
}
