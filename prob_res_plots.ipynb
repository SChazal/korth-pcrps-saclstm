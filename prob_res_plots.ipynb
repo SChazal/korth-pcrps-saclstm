{
 "cells": [
  {
   "cell_type": "code",
   "execution_count": null,
   "id": "3324a5ce",
   "metadata": {},
   "outputs": [],
   "source": [
    "import os\n",
    "\n",
    "from sa_convlstm import SAConvLSTM\n",
    "from convlstm import ConvLSTM\n",
    "from utils import *\n",
    "\n",
    "import torch\n",
    "from torch import nn\n",
    "from torch.optim.lr_scheduler import ReduceLROnPlateau\n",
    "from torch.utils.data import DataLoader\n",
    "\n",
    "import sys\n",
    "import pickle\n",
    "from tqdm import tqdm\n",
    "import numpy as np\n",
    "import math\n",
    "import argparse\n",
    "import json\n",
    "\n",
    "torch.backends.cudnn.deterministic = True\n",
    "torch.backends.cudnn.benchmark = False\n",
    "\n",
    "device = torch.device(\"cuda:1\" if torch.cuda.is_available() else \"cpu\")"
   ]
  },
  {
   "cell_type": "code",
   "execution_count": null,
   "id": "a3591502",
   "metadata": {},
   "outputs": [],
   "source": [
    "save_dir = './save_models/saclstm_pcrps_epoch_50_pinchu_pandamonium/'"
   ]
  },
  {
   "cell_type": "code",
   "execution_count": null,
   "id": "cfaacc1f",
   "metadata": {},
   "outputs": [],
   "source": [
    "parser = argparse.ArgumentParser()\n",
    "args = parser.parse_args(args=\"\")"
   ]
  },
  {
   "cell_type": "code",
   "execution_count": null,
   "id": "a4e06bc4",
   "metadata": {},
   "outputs": [],
   "source": [
    "with open(save_dir + 'args.txt', 'r') as f:\n",
    "    args.__dict__ = json.load(f)"
   ]
  },
  {
   "cell_type": "code",
   "execution_count": null,
   "id": "2b11cf67",
   "metadata": {},
   "outputs": [],
   "source": [
    "testFolder = wb_dataset(root=args.data, dataset_type=\"test\", frames_input=args.input_length,\n",
    "                              frames_output=args.output_length, prob = args.prob_crps)\n",
    "\n",
    "testLoader = torch.utils.data.DataLoader(testFolder,\n",
    "                                          batch_size=args.batch_size,\n",
    "                                          shuffle=False)\n",
    "\n",
    "device = torch.device(\"cuda:1\" if torch.cuda.is_available() else \"cpu\")\n",
    "\n",
    "if args.convlstm and not args.prob_crps:\n",
    "    network = ConvLSTM(args.input_dim, args.hidden_dim, args.output_dim,\n",
    "                             args.kernel_size, device, dropout=args.dropout).to(device)\n",
    "elif args.convlstm and args.prob_crps:\n",
    "    network = ConvLSTM(2*args.input_dim, args.hidden_dim, 2*args.output_dim,\n",
    "                       args.kernel_size, device, dropout=args.dropout).to(device)\n",
    "elif args.saconvlstm and not args.prob_crps:   \n",
    "    network = SAConvLSTM(args.input_dim, args.hidden_dim, args.output_dim, args.attn_dim,\n",
    "                         args.kernel_size, device, dropout=args.dropout).to(device)\n",
    "else:\n",
    "    network = SAConvLSTM(2*args.input_dim, args.hidden_dim, 2*args.output_dim, args.attn_dim,\n",
    "                         args.kernel_size, device, dropout=args.dropout).to(device)\n",
    "\n",
    "optimizer = torch.optim.Adam(network.parameters(), lr=args.learn_rate, weight_decay=args.weight_decay)    \n",
    "lr_scheduler = ReduceLROnPlateau(optimizer, mode='min', factor=0.3, patience=0, verbose=True, min_lr=0.0001)"
   ]
  },
  {
   "cell_type": "code",
   "execution_count": null,
   "id": "8e117421",
   "metadata": {},
   "outputs": [],
   "source": [
    "max_ep = 0\n",
    "for f in os.listdir(save_dir):\n",
    "    split = f.split(\"_\")\n",
    "    if len(split)==2 and split[1] == \"checkpoint.chk\":\n",
    "        if max_ep<int(split[0]): max_ep=int(split[0])\n",
    "chkpnt = str(max_ep) + \"_checkpoint.chk\"                                         "
   ]
  },
  {
   "cell_type": "code",
   "execution_count": null,
   "id": "43b53a6a",
   "metadata": {},
   "outputs": [],
   "source": [
    "chk = torch.load(save_dir + chkpnt)\n",
    "network.load_state_dict(chk['net'])"
   ]
  },
  {
   "cell_type": "code",
   "execution_count": null,
   "id": "00d5ba05",
   "metadata": {},
   "outputs": [],
   "source": [
    "loss_mc_test = infer(testLoader, args.input_length, network, args.output_dim, args.prob_crps)\n",
    "print(\"test rmse: \", loss_mc_test)"
   ]
  },
  {
   "cell_type": "code",
   "execution_count": null,
   "id": "6ef3f30c",
   "metadata": {},
   "outputs": [],
   "source": [
    "loss_WB_test = infer_WB(testFolder, testLoader, args.input_length, network, args.output_dim, args.prob_crps)\n",
    "print(\"test lat rmse: \")\n",
    "print(loss_WB_test)"
   ]
  },
  {
   "cell_type": "code",
   "execution_count": null,
   "id": "dbabe5f8",
   "metadata": {},
   "outputs": [],
   "source": [
    "item = testFolder.__getitem__(367)"
   ]
  },
  {
   "cell_type": "code",
   "execution_count": null,
   "id": "e202719b",
   "metadata": {},
   "outputs": [],
   "source": [
    "output = network(torch.from_numpy(item[None, :7, ...]).float().to(device), train=False).detach().cpu().numpy()"
   ]
  },
  {
   "cell_type": "code",
   "execution_count": null,
   "id": "56f97ccc",
   "metadata": {},
   "outputs": [],
   "source": [
    "import numpy as np\n",
    "from matplotlib.colors import Normalize\n",
    "from matplotlib import pyplot as plt\n",
    "import cartopy.crs as ccrs\n",
    "from cartopy.util import add_cyclic_point"
   ]
  },
  {
   "cell_type": "code",
   "execution_count": null,
   "id": "771e915c",
   "metadata": {},
   "outputs": [],
   "source": [
    "longs = np.arange(0, 360, 5.625)\n",
    "lats = np.linspace(-90, 90, 32)"
   ]
  },
  {
   "cell_type": "code",
   "execution_count": null,
   "id": "84768a2a",
   "metadata": {},
   "outputs": [],
   "source": [
    "item = item[:, :5, ...]*testFolder.long_std+testFolder.long_mean"
   ]
  },
  {
   "cell_type": "code",
   "execution_count": null,
   "id": "9af6f7ff",
   "metadata": {},
   "outputs": [],
   "source": [
    "var = output[0][:, 5:, ...]*testFolder.long_std\n",
    "output = output[0][:, :5, ...]*testFolder.long_std+testFolder.long_mean"
   ]
  },
  {
   "cell_type": "code",
   "execution_count": null,
   "id": "0bc6183f",
   "metadata": {},
   "outputs": [],
   "source": [
    "var = var**2"
   ]
  },
  {
   "cell_type": "code",
   "execution_count": null,
   "id": "d17d1e1f",
   "metadata": {},
   "outputs": [],
   "source": [
    "channel=0"
   ]
  },
  {
   "cell_type": "code",
   "execution_count": null,
   "id": "477ab7bf",
   "metadata": {},
   "outputs": [],
   "source": [
    "np.arange(0, 360, 5.625).shape"
   ]
  },
  {
   "cell_type": "code",
   "execution_count": null,
   "id": "efeb5e49",
   "metadata": {
    "scrolled": false
   },
   "outputs": [],
   "source": [
    "labels = item[7][channel]\n",
    "wrap_data, wrap_lon = add_cyclic_point(labels, coord=longs, axis=1)\n",
    "plt.figure(figsize=(20,9))\n",
    "ax = plt.axes(projection=ccrs.PlateCarree())\n",
    "ax.coastlines()\n",
    "im = ax.contourf(wrap_lon, lats, wrap_data, 100, transform=ccrs.PlateCarree(), norm = Normalize(vmin=240, vmax=305))\n",
    "ax.set_global()\n",
    "# cbar = ax.figure.colorbar(im, aspect=10, fraction=0.2, orientation='vertical')\n",
    "# cbar.ax.tick_params(labelsize=40)\n",
    "plt.show()"
   ]
  },
  {
   "cell_type": "code",
   "execution_count": null,
   "id": "a5643975",
   "metadata": {
    "scrolled": true
   },
   "outputs": [],
   "source": [
    "labels = item[11][channel]\n",
    "wrap_data, wrap_lon = add_cyclic_point(labels, coord=longs, axis=1)\n",
    "plt.figure(figsize=(20,9))\n",
    "ax = plt.axes(projection=ccrs.PlateCarree())\n",
    "ax.coastlines()\n",
    "ax.contourf(wrap_lon, lats, wrap_data, 100, transform=ccrs.PlateCarree(), norm = Normalize(vmin=240, vmax=305))\n",
    "ax.set_global()\n",
    "plt.show()"
   ]
  },
  {
   "cell_type": "code",
   "execution_count": null,
   "id": "a9bf4db8",
   "metadata": {},
   "outputs": [],
   "source": [
    "# ---------------------"
   ]
  },
  {
   "cell_type": "code",
   "execution_count": null,
   "id": "d40e967b",
   "metadata": {
    "scrolled": true
   },
   "outputs": [],
   "source": [
    "labels = output[4][channel]\n",
    "wrap_data, wrap_lon = add_cyclic_point(labels, coord=longs, axis=1)\n",
    "plt.figure(figsize=(20,9))\n",
    "ax = plt.axes(projection=ccrs.PlateCarree())\n",
    "ax.coastlines()\n",
    "im = ax.contourf(wrap_lon, lats, wrap_data, 100, transform=ccrs.PlateCarree(), norm = Normalize(vmin=240, vmax=305))\n",
    "ax.set_global()\n",
    "cbar = ax.figure.colorbar(im, aspect=10, fraction=0.2, orientation='vertical')\n",
    "cbar.ax.tick_params(labelsize=40)\n",
    "plt.show()"
   ]
  },
  {
   "cell_type": "code",
   "execution_count": null,
   "id": "a8853e51",
   "metadata": {
    "scrolled": true
   },
   "outputs": [],
   "source": [
    "labels = var[4][channel]\n",
    "wrap_data, wrap_lon = add_cyclic_point(labels, coord=longs, axis=1)\n",
    "plt.figure(figsize=(20,9))\n",
    "ax = plt.axes(projection=ccrs.PlateCarree())\n",
    "ax.coastlines()\n",
    "im = ax.contourf(wrap_lon, lats, wrap_data, 100, transform=ccrs.PlateCarree(), norm = Normalize(vmin=0, vmax=35), cmap='Reds')\n",
    "ax.set_global()\n",
    "cbar = ax.figure.colorbar(im, aspect=10, fraction=0.2, orientation='vertical')\n",
    "cbar.ax.tick_params(labelsize=40)\n",
    "plt.show()"
   ]
  },
  {
   "cell_type": "code",
   "execution_count": null,
   "id": "52377170",
   "metadata": {},
   "outputs": [],
   "source": [
    "# import scipy.ndimage\n",
    "day = 4\n",
    "labels = np.abs(item[day+7][channel] - output[day+0][channel])\n",
    "wrap_data, wrap_lon = add_cyclic_point(labels, coord=longs, axis=1)\n",
    "plt.figure(figsize=(20,9))\n",
    "ax = plt.axes(projection=ccrs.PlateCarree())\n",
    "ax.coastlines()\n",
    "# wrap_data=scipy.ndimage.filters.gaussian_filter(wrap_data, 0.4)\n",
    "im = ax.contourf(wrap_lon, lats, wrap_data, 100, transform=ccrs.PlateCarree(), norm = Normalize(vmin=0, vmax=30), cmap='Reds')\n",
    "ax.set_global()\n",
    "# cbar = ax.figure.colorbar(im, aspect=10, fraction=0.2, orientation='vertical')\n",
    "# cbar.ax.tick_params(labelsize=40)\n",
    "plt.show()"
   ]
  }
 ],
 "metadata": {
  "kernelspec": {
   "display_name": "Python 3 (ipykernel)",
   "language": "python",
   "name": "python3"
  },
  "language_info": {
   "codemirror_mode": {
    "name": "ipython",
    "version": 3
   },
   "file_extension": ".py",
   "mimetype": "text/x-python",
   "name": "python",
   "nbconvert_exporter": "python",
   "pygments_lexer": "ipython3",
   "version": "3.9.13"
  }
 },
 "nbformat": 4,
 "nbformat_minor": 5
}
